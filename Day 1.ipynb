{
 "cells": [
  {
   "cell_type": "markdown",
   "metadata": {},
   "source": [
    "# Introduction to Python Programming"
   ]
  },
  {
   "cell_type": "markdown",
   "metadata": {},
   "source": [
    "## Python Variables"
   ]
  },
  {
   "cell_type": "markdown",
   "metadata": {},
   "source": [
    "Variables are containers for storing data values.\n",
    "\n",
    "Examples of variables;\n",
    "\n",
    "- &emsp;`number = 5`\n",
    "- &emsp;`me = “you”`\n",
    "- &emsp;`language = “python”`\n"
   ]
  },
  {
   "cell_type": "code",
   "execution_count": 12,
   "metadata": {},
   "outputs": [
    {
     "name": "stdout",
     "output_type": "stream",
     "text": [
      "15\n"
     ]
    }
   ],
   "source": [
    "x = 10\n",
    "y = 5\n",
    "print(x + y)"
   ]
  },
  {
   "cell_type": "markdown",
   "metadata": {},
   "source": [
    "### Exercise\n",
    "1. Store the printed value in another variable and subtract 3 and store the new results in a variable called “final”.\n"
   ]
  },
  {
   "cell_type": "code",
   "execution_count": 13,
   "metadata": {},
   "outputs": [
    {
     "name": "stdout",
     "output_type": "stream",
     "text": [
      "12\n"
     ]
    }
   ],
   "source": [
    "# Live coding\n",
    "sub = x+y\n",
    "k = 3\n",
    "final = x+y-k\n",
    "print(final)"
   ]
  },
  {
   "cell_type": "markdown",
   "metadata": {},
   "source": [
    "## Python Variable Exercise\n",
    "\n",
    "1. Create a variable name and assign the value “your name” to it.\n",
    "2. Create a variable continue  and assign the value “your name” to it.\n",
    "3. What was your observation after executing 1 and 2."
   ]
  },
  {
   "cell_type": "markdown",
   "metadata": {},
   "source": [
    "What is wrong with the code below?"
   ]
  },
  {
   "cell_type": "code",
   "execution_count": 17,
   "metadata": {},
   "outputs": [
    {
     "ename": "SyntaxError",
     "evalue": "invalid syntax (2076948244.py, line 4)",
     "output_type": "error",
     "traceback": [
      "\u001b[1;36m  Cell \u001b[1;32mIn[17], line 4\u001b[1;36m\u001b[0m\n\u001b[1;33m    continue = \"Stephen\"\u001b[0m\n\u001b[1;37m             ^\u001b[0m\n\u001b[1;31mSyntaxError\u001b[0m\u001b[1;31m:\u001b[0m invalid syntax\n"
     ]
    }
   ],
   "source": [
    "# exercise\n",
    "name = \"Stephen\"\n",
    "# print(name)\n",
    "\n",
    "import1 = \"Stephen\"\n"
   ]
  },
  {
   "cell_type": "markdown",
   "metadata": {},
   "source": [
    "Changing the Value of a Variable in Python"
   ]
  },
  {
   "cell_type": "code",
   "execution_count": 20,
   "metadata": {},
   "outputs": [
    {
     "name": "stdout",
     "output_type": "stream",
     "text": [
      "apple.com\n"
     ]
    }
   ],
   "source": [
    "site_name = 'kaizenacademy.com'\n",
    "# print(site_name)\n",
    "\n",
    "# assigning a new value to site_name\n",
    "site_name = 'apple.com'\n",
    "\n",
    "print('I am \"Stephen\"')"
   ]
  },
  {
   "cell_type": "markdown",
   "metadata": {},
   "source": [
    "More Examples of creating and assigning values to variables: \n",
    "\n",
    "> Assigning multiple values to multiple variables\n"
   ]
  },
  {
   "cell_type": "code",
   "execution_count": 21,
   "metadata": {},
   "outputs": [
    {
     "name": "stdout",
     "output_type": "stream",
     "text": [
      "5\n",
      "3.2\n",
      "Hello\n"
     ]
    }
   ],
   "source": [
    "a, b, c = 5, 3.2, 'Hello'\n",
    "\n",
    "print(a)  # prints 5\n",
    "print(b)  # prints 3.2\n",
    "print(c)  # prints Hello"
   ]
  },
  {
   "cell_type": "code",
   "execution_count": 22,
   "metadata": {},
   "outputs": [
    {
     "name": "stdout",
     "output_type": "stream",
     "text": [
      "kaizenacademy.com\n",
      "kaizenacademy.com\n"
     ]
    }
   ],
   "source": [
    "site1 = site2 = 'kaizenacademy.com'\n",
    "\n",
    "print(site1)  # prints programiz.com\n",
    "print(site2)  # prints programiz.com\n",
    "\n",
    "# this approach is not often used in the real world but good to know."
   ]
  },
  {
   "cell_type": "markdown",
   "metadata": {},
   "source": [
    "## Python Type Conversion"
   ]
  },
  {
   "cell_type": "markdown",
   "metadata": {},
   "source": [
    "In programming, type conversion is the process of converting data of one type to another. For example: converting int data to str.\n",
    "\n",
    "There are two types of type conversion in Python.\n",
    "\n",
    "- Implicit Conversion - automatic type conversion\n",
    "- Explicit Conversion - manual type conversion\n"
   ]
  },
  {
   "cell_type": "code",
   "execution_count": 28,
   "metadata": {},
   "outputs": [
    {
     "name": "stdout",
     "output_type": "stream",
     "text": [
      "<class 'int'>\n"
     ]
    }
   ],
   "source": [
    "# Implicit Conversion\n",
    "\n",
    "integer_number = 123\n",
    "float_number = 1.23\n",
    "new_number = 1\n",
    "\n",
    "\n",
    "new_number = integer_number + float_number\n",
    "print(type(int(new_number)))\n",
    "\n",
    "# # display new value and resulting data type\n",
    "# print(\"Value:\", new_number)\n",
    "# print(\"Data Type:\", type(new_number))"
   ]
  },
  {
   "cell_type": "code",
   "execution_count": 31,
   "metadata": {},
   "outputs": [
    {
     "name": "stdout",
     "output_type": "stream",
     "text": [
      "Data type of num_string before Type Casting: <class 'str'>\n",
      "4\n"
     ]
    }
   ],
   "source": [
    "# Explicit Conversion\n",
    "\n",
    "num_string = '12'\n",
    "num_integer = 23\n",
    "\n",
    "print(\"Data type of num_string before Type Casting:\", type(num_string))\n",
    "\n",
    "# explicit type conversion\n",
    "num_string = int(num_string)\n",
    "\n",
    "print(\"Data type of num_string after Type Casting:\", type(num_string))\n",
    "\n",
    "num_sum = num_integer + num_string\n",
    "\n",
    "print(\"Sum:\", num_sum)\n",
    "print(\"Data type of num_sum:\", type(num_sum))"
   ]
  },
  {
   "cell_type": "code",
   "execution_count": 33,
   "metadata": {},
   "outputs": [
    {
     "name": "stdout",
     "output_type": "stream",
     "text": [
      "<class 'int'>\n"
     ]
    }
   ],
   "source": [
    "value = int(input(\"enter a number: \"))\n",
    "\n",
    "print(type(value))"
   ]
  },
  {
   "cell_type": "markdown",
   "metadata": {},
   "source": [
    "## Python Input"
   ]
  },
  {
   "cell_type": "markdown",
   "metadata": {},
   "source": [
    "While programming, we might want to take the input from the user. In Python, we can use the input() function."
   ]
  },
  {
   "cell_type": "code",
   "execution_count": null,
   "metadata": {},
   "outputs": [],
   "source": [
    "# using input() to take user input\n",
    "num = input('Enter a number: ')\n",
    "\n",
    "print('You Entered:', num)\n",
    "\n",
    "print('Data type of num:', type(num))"
   ]
  },
  {
   "cell_type": "markdown",
   "metadata": {},
   "source": [
    "## Python Operators"
   ]
  },
  {
   "cell_type": "markdown",
   "metadata": {},
   "source": [
    "Operators are special symbols that perform operations on variables and values.\n",
    "\n",
    "### 1. Python Arithmetic Operators\n",
    "\n",
    "| Operator | Operation | Example | Description |\n",
    "| -------- | --------- | ------- | ----------- |\n",
    "|    +|   | Addition  |5 + 2 = 7|to add|\n",
    "| -|       | Subtraction | 4 - 2 = 2 |to subtract|\n",
    "| * | Multiplication | 2 * 3 = 6 |to multiply|\n",
    "| / | Division | 4 / 2 = 2 |to divide|to floor divide|\n",
    "| // | Floor Division | 10 // 3 = 3 |to floor divide 10 by 3\n",
    "| % | Modulo | 5 % 2 = 1 |to get the remainder|\n",
    "| ** | Power | 4 ** 2 = 16 |to get 4 to the power 2|"
   ]
  },
  {
   "cell_type": "code",
   "execution_count": 34,
   "metadata": {},
   "outputs": [
    {
     "name": "stdout",
     "output_type": "stream",
     "text": [
      "Sum:  9\n",
      "Subtraction:  5\n",
      "Multiplication:  14\n",
      "Division:  3.5\n",
      "Floor Division:  3\n",
      "Modulo:  1\n",
      "Power:  49\n"
     ]
    }
   ],
   "source": [
    "a = 7\n",
    "b = 2\n",
    "\n",
    "# addition\n",
    "print('Sum: ', a + b)\n",
    "\n",
    "# subtraction\n",
    "print('Subtraction: ', a - b)\n",
    "\n",
    "# multiplication\n",
    "print('Multiplication: ', a * b)\n",
    "\n",
    "# division\n",
    "print('Division: ', a / b)\n",
    "\n",
    "# floor division\n",
    "print('Floor Division: ', a // b)\n",
    "\n",
    "# modulo\n",
    "print('Modulo: ', a % b)\n",
    "\n",
    "# a to the power b\n",
    "print('Power: ', a ** b)"
   ]
  },
  {
   "cell_type": "markdown",
   "metadata": {},
   "source": [
    "### 2. Python Assignment Operators\n",
    "\n",
    "| Operator | Name | Example |\n",
    "| -------- | --------- | ------- |\n",
    "|    =|   | Assignment Operator  |`a = 7`|\n",
    "| +=\t       | Addition Assignment | `a += 1 # a = a + 1` |\n",
    "| -= | Subtraction Assignment | `a -= 3 # a = a - 3` |\n",
    "| *= | Multiplication Assignment |`a *= 4 # a = a * 4`|\n",
    "| /= | Division Assignment | `a /= 3 # a = a / 3` |\n",
    "| %= | Remainder Assignment | `a %= 10 # a = a % 10` |\n",
    "| **= | Exponent Assignment | `a **= 10 # a = a ** 10` |"
   ]
  },
  {
   "cell_type": "code",
   "execution_count": 35,
   "metadata": {},
   "outputs": [
    {
     "name": "stdout",
     "output_type": "stream",
     "text": [
      "15\n"
     ]
    }
   ],
   "source": [
    "# assign 10 to a\n",
    "a = 10\n",
    "\n",
    "# assign 5 to b\n",
    "b = 5\n",
    "\n",
    "# assign the sum of a and b to a\n",
    "a += b      # a = a + b\n",
    "\n",
    "print(a)\n",
    "\n",
    "# Output: 15"
   ]
  },
  {
   "cell_type": "code",
   "execution_count": 37,
   "metadata": {},
   "outputs": [
    {
     "name": "stdout",
     "output_type": "stream",
     "text": [
      "50\n"
     ]
    }
   ],
   "source": [
    "a = 10\n",
    "\n",
    "# assign 5 to b\n",
    "b = 5\n",
    "\n",
    "b *= a # b = b * a\n",
    "a *= b # a = a * b\n",
    "\n",
    "print(b)"
   ]
  },
  {
   "cell_type": "markdown",
   "metadata": {},
   "source": [
    "### 3. Python Comparison Operators\n",
    "Comparison operators compare two values/variables and return a boolean result: True or False.\n",
    "\n",
    "Note: Comparison operators are used in decision-making and loops. We'll discuss more of the comparison operator and decision-making in later tutorials.\n",
    "\n"
   ]
  },
  {
   "cell_type": "code",
   "execution_count": 40,
   "metadata": {},
   "outputs": [
    {
     "name": "stdout",
     "output_type": "stream",
     "text": [
      "a == b = False\n",
      "a != b = True\n",
      "a > b = True\n",
      "a < b = False\n",
      "a >= b = True\n",
      "a <= b = False\n"
     ]
    }
   ],
   "source": [
    "a = 5\n",
    "\n",
    "b = 2\n",
    "\n",
    "# equal to operator ==\n",
    "print('a == b =', a == b)\n",
    "\n",
    "# not equal to operator !=\n",
    "print('a != b =', a != b)\n",
    "\n",
    "# greater than operator >\n",
    "print('a > b =', a > b)\n",
    "\n",
    "# less than operator <\n",
    "print('a < b =', a < b)\n",
    "\n",
    "# greater than or equal to operator >=\n",
    "print('a >= b =', a >= b)\n",
    "\n",
    "# less than or equal to operator <=\n",
    "print('a <= b =', a <= b)"
   ]
  },
  {
   "cell_type": "markdown",
   "metadata": {},
   "source": [
    "### 4. Python Logical Operators\n",
    "\n",
    "Logical operators are used to check whether an expression is True or False. They are used in decision-making."
   ]
  },
  {
   "cell_type": "code",
   "execution_count": null,
   "metadata": {},
   "outputs": [],
   "source": [
    "# logical AND\n",
    "print(True and True)     # True\n",
    "print(True and False)    # False\n",
    "\n",
    "# logical OR\n",
    "print(True or False)     # True\n",
    "\n",
    "# logical NOT\n",
    "print(not True)          # False"
   ]
  },
  {
   "cell_type": "markdown",
   "metadata": {},
   "source": [
    "### 6. Python Special operators\n",
    "\n",
    "Python language offers some special types of operators like the identity operator and the membership operator. They are described below with examples.\n",
    "\n",
    "#### Identity operators\n",
    "In Python, is and is not are used to check if two values are located on the same part of the memory. Two variables that are equal does not imply that they are identical.\n",
    "\n",
    "|Operator|Meaning|Example|\n",
    "|--------|-------|-------|\n",
    "|is|True if the operands are identical (refer to the same object)|x is True|\n",
    "|is not|True if the operands are not identical (do not refer to the same object)|x is not True|"
   ]
  },
  {
   "cell_type": "code",
   "execution_count": 55,
   "metadata": {},
   "outputs": [
    {
     "name": "stdout",
     "output_type": "stream",
     "text": [
      "False\n",
      "False\n",
      "False\n"
     ]
    }
   ],
   "source": [
    "x1 = 5\n",
    "y1 = 5\n",
    "x2 = 'Hello world'\n",
    "y2 = 'Hello world'\n",
    "x3 = [1, 2, 3]\n",
    "y3 = [1, 2, 3]\n",
    "\n",
    "print(x1 is not y1)  # prints False\n",
    "\n",
    "print(x2 is y2)  # prints True\n",
    "\n",
    "print(x3 is y3)  # prints False"
   ]
  },
  {
   "cell_type": "code",
   "execution_count": 54,
   "metadata": {},
   "outputs": [
    {
     "name": "stdout",
     "output_type": "stream",
     "text": [
      "False\n"
     ]
    }
   ],
   "source": [
    "# 256 inclusive\n",
    "a = 257\n",
    "b = 257\n",
    "\n",
    "print(a is None)"
   ]
  },
  {
   "cell_type": "markdown",
   "metadata": {},
   "source": [
    "### Membership operators\n",
    "\n",
    "In Python, in and not in are the membership operators. They are used to test whether a value or variable is found in a sequence (string, list, tuple, set and dictionary).\n",
    "\n",
    "In a dictionary we can only test for presence of key, not the value.\n",
    "\n",
    "|Operator|Meaning|Example|\n",
    "|--------|-------|-------|\n",
    "|in|True if value/variable is found in the sequence|5 in x|\n",
    "|not in|True if value/variable is not found in the sequence|5 not in x|"
   ]
  },
  {
   "cell_type": "code",
   "execution_count": 42,
   "metadata": {},
   "outputs": [
    {
     "name": "stdout",
     "output_type": "stream",
     "text": [
      "True\n",
      "True\n",
      "True\n",
      "False\n"
     ]
    }
   ],
   "source": [
    "x = 'Hello world'\n",
    "y = {1: 'a', 2: 'b'}\n",
    "\n",
    "# check if 'H' is present in x string\n",
    "print('H' in x)  # prints True\n",
    "\n",
    "# check if 'hello' is present in x string\n",
    "print('hello' not in x)  # prints True\n",
    "\n",
    "# check if '1' key is present in y\n",
    "print(1 in y)  # prints True\n",
    "\n",
    "# check if 'a' key is present in y\n",
    "print('a' in y)  # prints False"
   ]
  },
  {
   "cell_type": "markdown",
   "metadata": {},
   "source": [
    "## Python if...else Statement\n"
   ]
  },
  {
   "cell_type": "markdown",
   "metadata": {},
   "source": [
    "In computer programming, we use the if statement to run a block code only when a certain condition is met.\n",
    "\n",
    "For example, assigning grades (A, B, C) based on marks obtained by a student.\n",
    "\n",
    "- if the percentage is above 90, assign grade A\n",
    "- if the percentage is above 75, assign grade B\n",
    "- if the percentage is above 65, assign grade C\n",
    "\n",
    "In Python, there are three forms of the if...else statement.\n",
    "\n",
    "- if statement\n",
    "- if...else statement\n",
    "- if...elif...else statement\n",
    "\n",
    "### 1. Python if statement\n",
    "```python\n",
    "if condition:\n",
    "    # block of code if condition is True\n",
    "```\n"
   ]
  },
  {
   "cell_type": "code",
   "execution_count": 45,
   "metadata": {},
   "outputs": [
    {
     "name": "stdout",
     "output_type": "stream",
     "text": [
      "Number is positive\n",
      "completed\n"
     ]
    }
   ],
   "source": [
    "numbers = 10\n",
    "\n",
    "# if condition is True, the code inside the body of the if is executed.\n",
    "if numbers > 0:\n",
    "    print(\"Number is positive\")\n",
    "print('completed')\n"
   ]
  },
  {
   "cell_type": "code",
   "execution_count": null,
   "metadata": {},
   "outputs": [],
   "source": [
    "numbers = -1\n",
    "\n",
    "# if condition is False, the code inside the body of the if is skipped\n",
    "if numbers > 0:\n",
    "    print(\"Number is positive\")\n",
    "print('completed')"
   ]
  },
  {
   "cell_type": "markdown",
   "metadata": {},
   "source": [
    "### 2. if...else statement\n",
    "\n",
    "```python\n",
    "if condition:\n",
    "    # block of code if condition is \n",
    "    # the code inside if is executed\n",
    "    # the code inside else is skipped\n",
    "\n",
    "else:\n",
    "    # block of code if condition is False\n",
    "    # the code inside else is executed\n",
    "    # the code inside if is skipped\n",
    "```\n"
   ]
  },
  {
   "cell_type": "code",
   "execution_count": 47,
   "metadata": {},
   "outputs": [
    {
     "name": "stdout",
     "output_type": "stream",
     "text": [
      "Negative number\n",
      "This statement is always executed\n"
     ]
    }
   ],
   "source": [
    "number = -1\n",
    "\n",
    "if number > 0:\n",
    "    print('Positive number')\n",
    "\n",
    "else:\n",
    "    print('Negative number')\n",
    "\n",
    "print('This statement is always executed')"
   ]
  },
  {
   "cell_type": "markdown",
   "metadata": {},
   "source": [
    "### 3. Python if...elif...else Statement\n",
    "\n",
    " if we need to make a choice between more than two alternatives, then we use the if...elif...else statement.\n",
    "\n",
    "```python\n",
    "if condition1:\n",
    "    # code block 1\n",
    "    # If condition1 evaluates to true, code block 1 is executed.\n",
    "\n",
    "# If condition1 evaluates to false, then condition2 is evaluated.\n",
    "elif condition2:\n",
    "    # code block 2\n",
    "    # If condition2 is true, code block 2 is executed.\n",
    "\n",
    "else: \n",
    "    # code block 3\n",
    "    # If condition2 is false, code block 3 is executed.\n",
    "```"
   ]
  },
  {
   "cell_type": "code",
   "execution_count": 50,
   "metadata": {},
   "outputs": [
    {
     "name": "stdout",
     "output_type": "stream",
     "text": [
      "Negative number\n",
      "This statement is always executed\n"
     ]
    }
   ],
   "source": [
    "number = -1\n",
    "\n",
    "if number > 0:\n",
    "    print(\"Positive number\")\n",
    "\n",
    "elif number == 0:\n",
    "    print('Zero')\n",
    "else:\n",
    "    print('Negative number')\n",
    "\n",
    "print('This statement is always executed')"
   ]
  },
  {
   "cell_type": "markdown",
   "metadata": {},
   "source": [
    "### Python Nested if statements\n",
    "\n",
    "We can also use an if statement inside of an if statement. This is known as a nested if statement.\n",
    "\n",
    "```python\n",
    "# outer if statement\n",
    "if condition1:\n",
    "    # statement(s)\n",
    "\n",
    "    # inner if statement\n",
    "    if condition2: \n",
    "        # statement(s)\n",
    "```\n",
    "\n",
    "Notes:\n",
    "\n",
    "- We can add else and elif statements to the inner if statement as required.\n",
    "- We can also insert inner if statement inside the outer else or elif statements(if they exist)\n",
    "- We can nest multiple layers of if statements."
   ]
  },
  {
   "cell_type": "code",
   "execution_count": null,
   "metadata": {},
   "outputs": [],
   "source": [
    "number = 5\n",
    "\n",
    "# outer if statement\n",
    "if (number >= 0):\n",
    "    # inner if statement\n",
    "    if number == 0:\n",
    "      print('Number is 0')\n",
    "\n",
    "    # inner else statement\n",
    "    else:\n",
    "        print('Number is positive')\n",
    "\n",
    "# outer else statement\n",
    "else:\n",
    "    print('Number is negative')\n",
    "\n",
    "# Output: Number is positive"
   ]
  },
  {
   "cell_type": "markdown",
   "metadata": {},
   "source": [
    "## Python for Loop"
   ]
  },
  {
   "cell_type": "markdown",
   "metadata": {},
   "source": [
    "In computer programming, loops are used to repeat a block of code.\n",
    "\n",
    "For example, if we want to show a message 100 times, then we can use a loop. It's just a simple example; you can achieve much more with loops.\n",
    "\n",
    "There are 2 types of loops in Python:\n",
    "\n",
    "- for loop\n",
    "- while loop\n",
    "\n",
    "## For Loop"
   ]
  },
  {
   "cell_type": "code",
   "execution_count": 58,
   "metadata": {},
   "outputs": [
    {
     "name": "stdout",
     "output_type": "stream",
     "text": [
      "1\n",
      "3\n",
      "5\n",
      "7\n",
      "9\n"
     ]
    }
   ],
   "source": [
    "# range(start, stop, interval)\n",
    "# for i in range(10):\n",
    "#     print(i)\n",
    "\n",
    "# for i in range(1,10):\n",
    "#     print(i)\n",
    "\n",
    "for i in range(1,10,2):\n",
    "    print(i)"
   ]
  },
  {
   "cell_type": "code",
   "execution_count": 60,
   "metadata": {},
   "outputs": [
    {
     "name": "stdout",
     "output_type": "stream",
     "text": [
      "Swift\n",
      "Python\n",
      "Go\n",
      "JavaScript\n"
     ]
    }
   ],
   "source": [
    "# Looping through the items in a list\n",
    "languages = ['Swift', 'Python', 'Go', 'JavaScript']\n",
    "\n",
    "# run a loop for each item of the list\n",
    "# for language in languages:\n",
    "#     print(language)\n",
    "\n",
    "# Another way you can do this is;\n",
    "for i in range(len(languages)):\n",
    "    print(languages[i])"
   ]
  },
  {
   "cell_type": "code",
   "execution_count": 61,
   "metadata": {},
   "outputs": [
    {
     "name": "stdout",
     "output_type": "stream",
     "text": [
      "P\n",
      "y\n",
      "t\n",
      "h\n",
      "o\n",
      "n\n"
     ]
    }
   ],
   "source": [
    "# You can loop through a string\n",
    "for x in 'Python':\n",
    "    print(x)"
   ]
  },
  {
   "cell_type": "markdown",
   "metadata": {},
   "source": [
    "## Python While Loop\n"
   ]
  },
  {
   "cell_type": "markdown",
   "metadata": {},
   "source": [
    "Python while loop is used to run a block code until a certain condition is met.\n",
    "\n",
    "```python\n",
    "while condition:\n",
    "    # body of while loop\n",
    "```\n",
    "\n",
    "Here,\n",
    "\n",
    "- A while loop evaluates the condition\n",
    "- If the condition evaluates to True, the code inside the while loop is executed.\n",
    "- condition is evaluated again.\n",
    "- This process continues until the condition is False.\n",
    "- When condition evaluates to False, the loop stops.\n"
   ]
  },
  {
   "cell_type": "code",
   "execution_count": 62,
   "metadata": {},
   "outputs": [
    {
     "name": "stdout",
     "output_type": "stream",
     "text": [
      "1\n",
      "2\n",
      "3\n",
      "4\n",
      "5\n"
     ]
    }
   ],
   "source": [
    "# program to display numbers from 1 to 5\n",
    "\n",
    "# initialize the variable\n",
    "i = 1\n",
    "n = 5\n",
    "\n",
    "# while loop from i = 1 to 5\n",
    "while i <= n:\n",
    "    print(i)\n",
    "    i += 1"
   ]
  },
  {
   "cell_type": "markdown",
   "metadata": {},
   "source": [
    "## Exercise"
   ]
  },
  {
   "cell_type": "markdown",
   "metadata": {},
   "source": [
    "Using a while Loop, build an addition calculate that adds every number that is inputted into the system and generates a result when 0 is entered.\n",
    "\n",
    "```python\n",
    "# program to calculate the sum of numbers\n",
    "# until the user enters zero\n",
    "\n",
    "total = 0\n",
    "number = int(input('Enter a number: '))\n",
    "\n",
    "# add numbers until number is zero\n",
    "while number != 0:\n",
    "    ....\n",
    "\n",
    "\n",
    "print(f\"{total =}\")\n",
    "```"
   ]
  },
  {
   "cell_type": "code",
   "execution_count": 66,
   "metadata": {},
   "outputs": [
    {
     "name": "stdout",
     "output_type": "stream",
     "text": [
      "total = 44\n"
     ]
    }
   ],
   "source": [
    "total = 0\n",
    "number = int(input('Enter a number: '))\n",
    "\n",
    "while number != 0:\n",
    "    total += number\n",
    "    number = int(input('enter any number'))\n",
    "\n",
    "print(f\"{total = }\")"
   ]
  },
  {
   "cell_type": "code",
   "execution_count": 77,
   "metadata": {},
   "outputs": [
    {
     "data": {
      "text/plain": [
       "'The total number added is 5'"
      ]
     },
     "execution_count": 77,
     "metadata": {},
     "output_type": "execute_result"
    }
   ],
   "source": [
    "total = 5\n",
    "\n",
    "# for i in range(5):\n",
    "#     number = int(input('enter any number'))\n",
    "#     total += number\n",
    "\n",
    "v = \"The total number added is \" + str(total)\n",
    "# print(\"The total number added is %s\" % (total))\n",
    "v"
   ]
  },
  {
   "cell_type": "code",
   "execution_count": null,
   "metadata": {},
   "outputs": [],
   "source": [
    "# program to calculate the sum of numbers\n",
    "# until the user enters zero\n",
    "\n",
    "total = 0\n",
    "\n",
    "number = int(input('Enter a number: '))\n",
    "\n",
    "# add numbers until number is zero\n",
    "while number != 0:\n",
    "    total += number    # total = total + number\n",
    "\n",
    "    # take integer input again\n",
    "    number = int(input('Enter a number: '))\n",
    "\n",
    "\n",
    "print(f\"{total = }\")"
   ]
  },
  {
   "cell_type": "markdown",
   "metadata": {},
   "source": [
    "## Infinite while Loop in Python\n",
    "\n",
    "If the condition of a loop is always True, the loop runs for infinite times (until the memory is full). For example,\n",
    "\n",
    "```python\n",
    "age = 32\n",
    "\n",
    "# the test condition is always True\n",
    "while age > 18:\n",
    "    print('You can vote')\n",
    "```"
   ]
  },
  {
   "cell_type": "markdown",
   "metadata": {},
   "source": [
    "## Python Break and Continue"
   ]
  },
  {
   "cell_type": "markdown",
   "metadata": {},
   "source": [
    "### Python break Statement\n",
    "The break statement is used to terminate the loop immediately when it is encountered."
   ]
  },
  {
   "cell_type": "code",
   "execution_count": null,
   "metadata": {},
   "outputs": [],
   "source": [
    "for i in range(5):\n",
    "    if i == 3:\n",
    "        break\n",
    "    print(i)"
   ]
  },
  {
   "cell_type": "markdown",
   "metadata": {},
   "source": [
    "### Python continue Statement\n",
    "The continue statement is used to skip the current iteration of the loop and the control flow of the program goes to the next iteration."
   ]
  },
  {
   "cell_type": "code",
   "execution_count": null,
   "metadata": {},
   "outputs": [],
   "source": [
    "for i in range(5):\n",
    "    if i == 3:\n",
    "        continue\n",
    "    print(i)"
   ]
  },
  {
   "cell_type": "markdown",
   "metadata": {},
   "source": [
    "### Python continue Statement with while Loop\n",
    "\n",
    "### Exercise\n",
    "\n",
    "- program to print odd numbers from 1 to 10\n"
   ]
  },
  {
   "cell_type": "code",
   "execution_count": null,
   "metadata": {},
   "outputs": [],
   "source": [
    "# program to print odd numbers from 1 to 10\n",
    "\n",
    "num = 0\n",
    "\n",
    "while num < 10:\n",
    "    num += 1\n",
    "\n",
    "    if (num % 2) == 0:\n",
    "        continue\n",
    "\n",
    "    print(num)"
   ]
  },
  {
   "cell_type": "markdown",
   "metadata": {},
   "source": [
    "## New Chapter - Python Functions"
   ]
  },
  {
   "cell_type": "markdown",
   "metadata": {},
   "source": [
    "A function is a block of code that performs a specific task.\n",
    "\n",
    "Types of function\n",
    "There are two types of function in Python programming:\n",
    "\n",
    "- Standard library functions - These are built-in functions in Python that are available to use.\n",
    "- User-defined functions - We can create our own functions based on our requirements.\n",
    "\n",
    "### Python Function Declaration\n",
    "```python\n",
    "def function_name(arguments):\n",
    "    # function body \n",
    "\n",
    "    return\n",
    "```\n",
    "\n",
    "Here,\n",
    "\n",
    "- def - keyword used to declare a function\n",
    "- function_name - any name given to the function\n",
    "- arguments - any value passed to function\n",
    "- return (optional) - returns value from a function"
   ]
  },
  {
   "cell_type": "code",
   "execution_count": 98,
   "metadata": {},
   "outputs": [],
   "source": [
    "# example of a function\n",
    "\n",
    "def greet(greeting_type:dict) -> str:\n",
    "    v = greeting_type + 1\n",
    "    print(v)\n",
    "    # va = 2\n",
    "    # print('Hello World!')\n",
    "    # print(2)\n",
    "\n",
    "# The goal of this function is to just print \"hello world when called\""
   ]
  },
  {
   "cell_type": "code",
   "execution_count": 97,
   "metadata": {},
   "outputs": [
    {
     "ename": "TypeError",
     "evalue": "can only concatenate str (not \"int\") to str",
     "output_type": "error",
     "traceback": [
      "\u001b[1;31m---------------------------------------------------------------------------\u001b[0m",
      "\u001b[1;31mTypeError\u001b[0m                                 Traceback (most recent call last)",
      "Cell \u001b[1;32mIn[97], line 3\u001b[0m\n\u001b[0;32m      1\u001b[0m \u001b[38;5;66;03m# Calling a Function in Python\u001b[39;00m\n\u001b[1;32m----> 3\u001b[0m \u001b[43mgreet\u001b[49m\u001b[43m(\u001b[49m\u001b[38;5;124;43m\"\u001b[39;49m\u001b[38;5;124;43ms\u001b[39;49m\u001b[38;5;124;43m\"\u001b[39;49m\u001b[43m)\u001b[49m\n",
      "Cell \u001b[1;32mIn[95], line 4\u001b[0m, in \u001b[0;36mgreet\u001b[1;34m(greeting_type)\u001b[0m\n\u001b[0;32m      3\u001b[0m \u001b[38;5;28;01mdef\u001b[39;00m \u001b[38;5;21mgreet\u001b[39m(greeting_type:\u001b[38;5;28mint\u001b[39m):\n\u001b[1;32m----> 4\u001b[0m     v \u001b[38;5;241m=\u001b[39m \u001b[43mgreeting_type\u001b[49m\u001b[43m \u001b[49m\u001b[38;5;241;43m+\u001b[39;49m\u001b[43m \u001b[49m\u001b[38;5;241;43m1\u001b[39;49m\n\u001b[0;32m      5\u001b[0m     \u001b[38;5;28mprint\u001b[39m(v)\n",
      "\u001b[1;31mTypeError\u001b[0m: can only concatenate str (not \"int\") to str"
     ]
    }
   ],
   "source": [
    "# Calling a Function in Python\n",
    "\n",
    "greet(\"s\")"
   ]
  },
  {
   "cell_type": "markdown",
   "metadata": {},
   "source": [
    "### Python Function Arguments"
   ]
  },
  {
   "cell_type": "code",
   "execution_count": 101,
   "metadata": {},
   "outputs": [
    {
     "name": "stdout",
     "output_type": "stream",
     "text": [
      "Sum:  3\n"
     ]
    },
    {
     "data": {
      "text/plain": [
       "int"
      ]
     },
     "execution_count": 101,
     "metadata": {},
     "output_type": "execute_result"
    }
   ],
   "source": [
    "# function with two arguments\n",
    "def add_numbers(num1:int, num2:int)->str:\n",
    "    sum = num1 + num2\n",
    "    print('Sum: ', sum)\n",
    "    return sum\n",
    "\n",
    "# How do we call the above function\n",
    "type(add_numbers(1,2))"
   ]
  },
  {
   "cell_type": "code",
   "execution_count": null,
   "metadata": {},
   "outputs": [],
   "source": [
    "# Function Argument with Default Values\n",
    "\n",
    "def add_numbers(a=7,  b=8):\n",
    "    sum = a + b\n",
    "    print('Sum:', sum)\n",
    "\n",
    "\n",
    "# function call with two arguments\n",
    "add_numbers(2, 3)\n",
    "\n",
    "#  function call with one argument\n",
    "add_numbers(a=2)\n",
    "\n",
    "# function call with no arguments\n",
    "add_numbers()"
   ]
  },
  {
   "cell_type": "code",
   "execution_count": 103,
   "metadata": {},
   "outputs": [
    {
     "name": "stdout",
     "output_type": "stream",
     "text": [
      "First Name: Eric\n",
      "Last Name: Cartman\n",
      "Eric Cartman\n"
     ]
    }
   ],
   "source": [
    "# Python Keyword Argument\n",
    "# arguments are assigned based on the name of arguments\n",
    "\n",
    "def display_info(first_name, last_name):\n",
    "    print('First Name:', first_name)\n",
    "    print('Last Name:', last_name)\n",
    "    print(f\"{first_name} {last_name}\")\n",
    "\n",
    "\n",
    "display_info(last_name='Cartman', first_name='Eric')\n",
    "# display_info(\"Owusu\",\"Stephen\")\n",
    "\n",
    "# In such scenarios, the position of arguments doesn't matter."
   ]
  },
  {
   "cell_type": "markdown",
   "metadata": {},
   "source": [
    "### Python Function With Arbitrary Arguments\n",
    "\n",
    "Sometimes, we do not know in advance the number of arguments that will be passed into a function. To handle this kind of situation, we can use arbitrary arguments in Python.\n",
    "\n",
    "Arbitrary arguments allow us to pass a varying number of values during a function call.\n",
    "\n",
    "We use an asterisk (*) before the parameter name to denote this kind of argument."
   ]
  },
  {
   "cell_type": "code",
   "execution_count": 121,
   "metadata": {},
   "outputs": [
    {
     "name": "stdout",
     "output_type": "stream",
     "text": [
      "Sum =  6\n",
      "<class 'tuple'>\n",
      "Sum =  13\n",
      "<class 'tuple'>\n"
     ]
    }
   ],
   "source": [
    "# program to find sum of multiple numbers\n",
    "\n",
    "def find_sum(*numbers): # args\n",
    "    result = 0\n",
    "\n",
    "    for num in numbers:\n",
    "        result = result + num\n",
    "\n",
    "    print(\"Sum = \", result)\n",
    "    print(type(numbers))\n",
    "\n",
    "\n",
    "# function call with 3 arguments\n",
    "find_sum(1, 2, 3,4,5,6,7,8,9)\n",
    "\n",
    "# function call with 2 arguments\n",
    "find_sum(4, 9)\n",
    "\n",
    "# Note: After getting multiple values, numbers behave as an array so we are able to use the for loop to access each value."
   ]
  },
  {
   "cell_type": "code",
   "execution_count": 123,
   "metadata": {},
   "outputs": [
    {
     "data": {
      "text/plain": [
       "2"
      ]
     },
     "execution_count": 123,
     "metadata": {},
     "output_type": "execute_result"
    }
   ],
   "source": [
    "v = (1,2,3)\n",
    "v[1]"
   ]
  },
  {
   "cell_type": "code",
   "execution_count": 131,
   "metadata": {},
   "outputs": [
    {
     "name": "stdout",
     "output_type": "stream",
     "text": [
      "x: 2\n",
      "number: (3, 4, 5, 6, 6, 5, 6, 7)\n",
      "y: 6\n"
     ]
    }
   ],
   "source": [
    "def find_num(x, *args, y=4):\n",
    "    print(f\"x: {x}\")\n",
    "    print(f\"number: {args}\")\n",
    "    print(f\"y: {y}\")\n",
    "\n",
    "find_num(2,3,4,5,6,6,5,6,7, y=6)"
   ]
  },
  {
   "cell_type": "code",
   "execution_count": 138,
   "metadata": {},
   "outputs": [
    {
     "name": "stdout",
     "output_type": "stream",
     "text": [
      "x: 2\n",
      "number: (4, 5)\n",
      "y: 3\n"
     ]
    }
   ],
   "source": [
    "def find_num(*args, x,y):\n",
    "    print(f\"x: {x}\")\n",
    "    print(f\"number: {args}\")\n",
    "    print(f\"y: {y}\")\n",
    "\n",
    "find_num(4, 5,x=2,y=3)"
   ]
  },
  {
   "cell_type": "code",
   "execution_count": 110,
   "metadata": {},
   "outputs": [
    {
     "name": "stdout",
     "output_type": "stream",
     "text": [
      "x: 2\n",
      "number: (3, 4)\n",
      "y: 5\n"
     ]
    }
   ],
   "source": [
    "# abitrary number and keyword argument\n",
    "def find_num(x, *args, y):\n",
    "    print(f\"x: {x}\")\n",
    "    print(f\"number: {args}\")\n",
    "    print(f\"y: {y}\")\n",
    "\n",
    "find_num(2, 3, 4, y=5)"
   ]
  },
  {
   "cell_type": "code",
   "execution_count": 114,
   "metadata": {},
   "outputs": [
    {
     "name": "stdout",
     "output_type": "stream",
     "text": [
      "<class 'dict'>\n",
      "{}\n",
      "<class 'dict'>\n",
      "{'fname': 'Stephen', 'lname': 'Owusu'}\n"
     ]
    }
   ],
   "source": [
    "# kwargs should always be last\n",
    "def arbitrary(**kwargs):\n",
    "    print(type(kwargs))\n",
    "    print(kwargs)\n",
    "\n",
    "arbitrary()\n",
    "arbitrary(fname = \"Stephen\", lname = \"Owusu\")"
   ]
  },
  {
   "cell_type": "code",
   "execution_count": 146,
   "metadata": {},
   "outputs": [
    {
     "name": "stdout",
     "output_type": "stream",
     "text": [
      "x = 100\n",
      "args = (10, 20, 30, 40, 50, [2, 3, 4], 'me')\n",
      "args[0] = 10\n",
      "args[1] = 20\n",
      "args[2] = 30\n",
      "{'fname': 'Stephen', 'lname': 'Owusu', 'mmmm': 'fjabnifa'}\n",
      "Name: Stephen\n",
      "Name: Owusu\n"
     ]
    }
   ],
   "source": [
    "# kwargs should always be last\n",
    "def arbitrary(x, *args, **kwargs):\n",
    "    print(f\"{x = }\")\n",
    "    print(f\"{args = }\")\n",
    "    print(f\"{args[0] = }\")\n",
    "    print(f\"{args[1] = }\")\n",
    "    print(f\"{args[2] = }\")\n",
    "    print(f\"{kwargs}\")\n",
    "    print(f\"Name: {kwargs['fname']}\")\n",
    "    print(f\"Name: {kwargs['lname']}\")\n",
    "\n",
    "arbitrary(100, 10,20,30,40,50,[2,3,4],\"me\", fname=\"Stephen\", lname=\"Owusu\", grades=\"90\")"
   ]
  },
  {
   "cell_type": "markdown",
   "metadata": {},
   "source": [
    "### The return Statement in Python\n",
    "\n",
    "A Python function may or may not return a value. If we want our function to return some value to a function call, we use the return statement.\n",
    "\n",
    "With this the value returned from the function can be saved into a variable for further use. \n",
    "\n",
    "Any line of code that comes after the return statement is not executed."
   ]
  },
  {
   "cell_type": "code",
   "execution_count": null,
   "metadata": {},
   "outputs": [],
   "source": [
    "# We going to use the add_numbers function for this\n",
    "\n",
    "# function with two arguments\n",
    "def add_numbers(num1, num2):\n",
    "    sum = num1 + num2\n",
    "    return sum\n",
    "\n",
    "# call function\n"
   ]
  },
  {
   "cell_type": "code",
   "execution_count": 151,
   "metadata": {},
   "outputs": [
    {
     "name": "stdout",
     "output_type": "stream",
     "text": [
      "Square: {'name': 'Kofi', 'age': 4}\n",
      "Stephen\n",
      "23\n"
     ]
    }
   ],
   "source": [
    "# function definition\n",
    "def find_square(num):\n",
    "    result = num * num\n",
    "    y =1\n",
    "    z =3\n",
    "    sample = {\"name\":\"Kofi\", \"age\":4}\n",
    "    return  sample\n",
    "\n",
    "\n",
    "# function call\n",
    "square = find_square(3)\n",
    "\n",
    "print('Square:', square)\n",
    "\n",
    "# Output: Square: 9\n",
    "name, age = (\"Stephen\", 23)\n",
    "print(name)\n",
    "print(age)"
   ]
  },
  {
   "cell_type": "code",
   "execution_count": 152,
   "metadata": {},
   "outputs": [
    {
     "name": "stdout",
     "output_type": "stream",
     "text": [
      "12 0\n"
     ]
    }
   ],
   "source": [
    "def add_sub(x, y):\n",
    "    c = x+y\n",
    "    d = x-y\n",
    "    return c, d\n",
    "\n",
    "\n",
    "result1 = add_sub(6, 6)\n",
    "print(result1)"
   ]
  },
  {
   "cell_type": "markdown",
   "metadata": {},
   "source": [
    "## Python Library Functions"
   ]
  },
  {
   "cell_type": "markdown",
   "metadata": {},
   "source": [
    "Python Libraries in simple terms are pacakged files containing a set of functions that can be used in our code."
   ]
  },
  {
   "cell_type": "code",
   "execution_count": null,
   "metadata": {},
   "outputs": [],
   "source": [
    "from math import sqrt,floor\n",
    "# import math\n",
    "\n",
    "# sqrt computes the square root\n",
    "square_root = sqrt(4)\n",
    "\n",
    "\n",
    "print(\"Square Root of 4 is\", square_root)\n",
    "\n",
    "# pow() comptes the power\n",
    "power = pow(2, 3)\n",
    "\n",
    "print(\"2 to the power 3 is\", power)"
   ]
  },
  {
   "cell_type": "markdown",
   "metadata": {},
   "source": [
    "### Benefits of Using Functions\n",
    "\n",
    "1. Code Reusable - We can use the same function multiple times in our program which makes our code reusable.\n",
    "2. Code Readability - Functions help us break our code into chunks to make our program readable and easy to understand."
   ]
  },
  {
   "cell_type": "code",
   "execution_count": null,
   "metadata": {},
   "outputs": [],
   "source": [
    "# function definition\n",
    "def get_square(num):\n",
    "    return num * num\n",
    "\n",
    "\n",
    "for i in [1, 2, 3]:\n",
    "    # function call\n",
    "    result = get_square(i)\n",
    "    print('Square of', i, '=',result)"
   ]
  },
  {
   "cell_type": "markdown",
   "metadata": {},
   "source": [
    "## Python Modules"
   ]
  },
  {
   "cell_type": "markdown",
   "metadata": {},
   "source": [
    "Module is a file that contains code to perform a specific task. A module may contain variables, functions, classes etc. \n",
    "\n",
    "We can use modules to separate codes in separate files as per their functionality. This makes our code organized and easier to maintain.\n",
    "\n",
    "### First Project - 20 mins\n",
    "\n",
    "```python\n",
    "# mathlib.py\n",
    "\n",
    "def add():\n",
    "    return\n",
    "\n",
    "def subtraction():\n",
    "    return\n",
    "\n",
    "def division():\n",
    "    return\n",
    "\n",
    "def multiplication():\n",
    "    return\n",
    "\n",
    "# main.py\n",
    "# import mathlib\n",
    "\n",
    "a = 2\n",
    "b = 3\n",
    "c = 4\n",
    "d = 5\n",
    "\n",
    "# add up all variables\n",
    "# subtract c and d from the result above\n",
    "# multiple your new result by b\n",
    "# divide your new results by a\n",
    "\n",
    "```"
   ]
  },
  {
   "cell_type": "code",
   "execution_count": 157,
   "metadata": {},
   "outputs": [
    {
     "name": "stdout",
     "output_type": "stream",
     "text": [
      "14\n",
      "5\n",
      "15\n",
      "1.0\n"
     ]
    }
   ],
   "source": [
    "def add(*args):\n",
    "    res = 0\n",
    "    for numbers in args:\n",
    "        res += numbers\n",
    "    return res\n",
    "\n",
    "\n",
    "a = 2\n",
    "b = 3\n",
    "c = 4\n",
    "d = 5\n",
    "ans = add(a, b, c, d)\n",
    "print(ans)\n",
    "\n",
    "\n",
    "def subtract(*subs):\n",
    "    result = subs[0]-(subs[3]+subs[4])\n",
    "    return result\n",
    "\n",
    "\n",
    "ans2 = subtract(ans, a, b, c, d)\n",
    "print(ans2)\n",
    "\n",
    "\n",
    "def multiplication(*paks):\n",
    "    new_res = ans2*paks[2]\n",
    "    return new_res\n",
    "\n",
    "\n",
    "ans3 = multiplication(ans2, a, b, c, d)\n",
    "print(ans3)\n",
    "\n",
    "\n",
    "def division(*aargs):\n",
    "    newR = ans3/aargs[0]\n",
    "    return newR\n",
    "\n",
    "\n",
    "ans4 = division(ans3, a, b, c, d)\n",
    "print(ans4)"
   ]
  },
  {
   "cell_type": "code",
   "execution_count": 154,
   "metadata": {},
   "outputs": [
    {
     "name": "stdout",
     "output_type": "stream",
     "text": [
      "sum = 14\n",
      "diff = 5\n",
      "prod = 15\n",
      "quotient = 7.5\n"
     ]
    }
   ],
   "source": [
    "# mathlib.py\n",
    "\n",
    "def add(*numbers):\n",
    "    result = 0\n",
    "    for num in numbers:\n",
    "        result += num\n",
    "    return result\n",
    "    # return sum(numbers)\n",
    "\n",
    "def subtraction(*other_num, add_ans):\n",
    "    for num in other_num:\n",
    "        add_ans -= num\n",
    "    return add_ans\n",
    "\n",
    "def division(num, divider):\n",
    "    return num/divider\n",
    "\n",
    "def multiplication(num, multiplier):\n",
    "    return num*multiplier\n",
    "\n",
    "# main.py\n",
    "# import mathlib\n",
    "\n",
    "a = 2\n",
    "b = 3\n",
    "c = 4\n",
    "d = 5\n",
    "\n",
    "# add up all variables\n",
    "sum = add(a,b,c,d)\n",
    "\n",
    "# subtract c and d from the result above\n",
    "diff = subtraction(c, d, add_ans=sum)\n",
    "\n",
    "# multiple your new result by b\n",
    "prod = multiplication(diff, b)\n",
    "\n",
    "# divide your new results by a\n",
    "quotient = division(prod, a)\n",
    "\n",
    "print(f\"{sum = }\")\n",
    "print(f\"{diff = }\")\n",
    "print(f\"{prod = }\")\n",
    "print(f\"{quotient = }\")"
   ]
  },
  {
   "cell_type": "markdown",
   "metadata": {},
   "source": [
    "## Python Variable Scope\n",
    "\n",
    "Three types of variables\n",
    "\n",
    "- Local Variables\n",
    "- Global Variables\n",
    "- Nonlocal Variables"
   ]
  },
  {
   "cell_type": "code",
   "execution_count": null,
   "metadata": {},
   "outputs": [],
   "source": [
    "# local variables\n",
    "\n",
    "def greet():\n",
    "\n",
    "    # local variable\n",
    "    message = 'Hello'\n",
    "\n",
    "    print('Local', message)\n",
    "\n",
    "\n",
    "greet()\n",
    "\n",
    "# try to access message variable\n",
    "# outside greet() function\n",
    "print(message)"
   ]
  },
  {
   "cell_type": "code",
   "execution_count": null,
   "metadata": {},
   "outputs": [],
   "source": [
    "# global variables\n",
    "\n",
    "# declare global variable\n",
    "message = 'Hello'\n",
    "\n",
    "\n",
    "def greet():\n",
    "    # declare local variable\n",
    "    print('Local', message)\n",
    "\n",
    "\n",
    "greet()\n",
    "print('Global', message)"
   ]
  },
  {
   "cell_type": "code",
   "execution_count": null,
   "metadata": {},
   "outputs": [],
   "source": [
    "# nonlocal variable\n",
    "\n",
    "# outside function\n",
    "def outer():\n",
    "    message = 'local'\n",
    "\n",
    "    # nested function\n",
    "    def inner():\n",
    "\n",
    "        # declare nonlocal variable\n",
    "        nonlocal message\n",
    "\n",
    "        message = 'nonlocal'\n",
    "        print(\"inner:\", message)\n",
    "\n",
    "    inner()\n",
    "    print(\"outer:\", message)\n",
    "\n",
    "\n",
    "outer()"
   ]
  },
  {
   "cell_type": "markdown",
   "metadata": {},
   "source": [
    "## New Chapter - Python Data types"
   ]
  },
  {
   "cell_type": "markdown",
   "metadata": {},
   "source": [
    "### Python Numeric Data types\n",
    "\n",
    "In Python, numeric data type is used to hold numeric values.\n",
    "\n",
    "Integers, floating-point numbers and complex numbers fall under Python numbers category. They are defined as `int`, `float` and `complex` classes in Python.\n",
    "\n",
    "- int - holds integers of non-limited length.\n",
    "- float - holds floating decimal points and it's accurate up to 15 decimal places.\n",
    "- complex - holds complex numbers."
   ]
  },
  {
   "cell_type": "code",
   "execution_count": null,
   "metadata": {},
   "outputs": [],
   "source": [
    "num1 = 5\n",
    "print(num1, 'is of type', type(num1))\n",
    "\n",
    "num2 = 2.0\n",
    "print(num2, 'is of type', type(num2))\n",
    "\n",
    "num3 = 1+2j\n",
    "print(num3, 'is of type', type(num3))"
   ]
  },
  {
   "cell_type": "markdown",
   "metadata": {},
   "source": [
    "### Python String Data type\n",
    "\n",
    "String is a sequence of characters represented by either single or double quotes. For example"
   ]
  },
  {
   "cell_type": "code",
   "execution_count": null,
   "metadata": {},
   "outputs": [],
   "source": [
    "name = 'Python'\n",
    "print(name)\n",
    "\n",
    "message = \"Python for beginners\"\n",
    "print(message)"
   ]
  },
  {
   "cell_type": "code",
   "execution_count": null,
   "metadata": {},
   "outputs": [],
   "source": [
    "# Access String Characters in Python\n",
    "\n",
    "# Indexing\n",
    "greet = 'hello'\n",
    "\n",
    "# access 1st index element\n",
    "print(greet[1])  # \"e\"\n",
    "\n",
    "# Negative Indexing\n",
    "greet = 'hello'\n",
    "\n",
    "# access 4th last element\n",
    "print(greet[-4])  # \"e\"\n",
    "\n",
    "# slicing\n",
    "greet = 'Hello'\n",
    "\n",
    "# access character from 1st index to 3rd index\n",
    "print(greet[1:4])  # \"ell\""
   ]
  },
  {
   "cell_type": "code",
   "execution_count": null,
   "metadata": {},
   "outputs": [],
   "source": [
    "# Python Strings are immutable\n",
    "message = 'Hola Amigos'\n",
    "message[0] = 'H'\n",
    "print(message)\n",
    "\n",
    "# However, we can assign the variable name to a new string. For example,\n",
    "\n",
    "message = 'Hola Amigos'\n",
    "\n",
    "# assign new string to message variable\n",
    "message = 'Hello Friends'\n",
    "\n",
    "print(message)  # prints \"Hello Friends\""
   ]
  },
  {
   "cell_type": "code",
   "execution_count": null,
   "metadata": {},
   "outputs": [],
   "source": [
    "# Python Multiline String\n",
    "\n",
    "# multiline string\n",
    "message = \"\"\"\n",
    "Never gonna give you up\n",
    "Never gonna let you down\n",
    "\"\"\"\n",
    "\n",
    "print(message)"
   ]
  },
  {
   "cell_type": "markdown",
   "metadata": {},
   "source": [
    "### Python String Operations\n"
   ]
  },
  {
   "cell_type": "code",
   "execution_count": null,
   "metadata": {},
   "outputs": [],
   "source": [
    "# 1. Compare Two Strings\n",
    "# We use the == operator to compare two strings.\n",
    "\n",
    "str1 = \"Hello, world!\"\n",
    "str2 = \"I love Python.\"\n",
    "str3 = \"Hello, world!\"\n",
    "\n",
    "# compare str1 and str2\n",
    "print(str1 == str2)\n",
    "\n",
    "# compare str1 and str3\n",
    "print(str1 == str3)"
   ]
  },
  {
   "cell_type": "code",
   "execution_count": null,
   "metadata": {},
   "outputs": [],
   "source": [
    "# 2. Join Two or More Strings\n",
    "\n",
    "greet = \"Hello, \"\n",
    "name = \"Jack\"\n",
    "\n",
    "# using + operator\n",
    "result = greet + name\n",
    "print(result)\n",
    "\n",
    "# Output: Hello, Jack"
   ]
  },
  {
   "cell_type": "code",
   "execution_count": null,
   "metadata": {},
   "outputs": [],
   "source": [
    "# Iterate Through a Python String\n",
    "\n",
    "greet = 'Hello'\n",
    "\n",
    "# iterating through greet string\n",
    "for letter in greet:\n",
    "    print(letter)"
   ]
  },
  {
   "cell_type": "code",
   "execution_count": null,
   "metadata": {},
   "outputs": [],
   "source": [
    "# Python String Length\n",
    "\n",
    "greet = 'Hello'\n",
    "\n",
    "# count length of greet string\n",
    "print(len(greet))\n",
    "\n",
    "# Output: 5"
   ]
  },
  {
   "cell_type": "code",
   "execution_count": null,
   "metadata": {},
   "outputs": [],
   "source": [
    "# String Membership Test\n",
    "\n",
    "print('a' in 'program') # True\n",
    "print('at' not in 'battle') #False"
   ]
  },
  {
   "cell_type": "code",
   "execution_count": null,
   "metadata": {},
   "outputs": [],
   "source": [
    "# Python String Formatting (f-Strings)\n",
    "name = 'Cathy'\n",
    "country = 'UK'\n",
    "\n",
    "print(f'{name} is from {country}')"
   ]
  },
  {
   "cell_type": "markdown",
   "metadata": {},
   "source": [
    "### Python String Methods\n",
    "\n",
    "|Methods|Description|\n",
    "|-------|-----------|\n",
    "|upper()|converts the string to uppercase|\n",
    "|lower()|converts the string to lowercase|\n",
    "|partition()|returns a tuple|\n",
    "|replace()|replaces substring inside|\n",
    "|find()|returns the index of first occurrence of substring|\n",
    "|rstrip()|removes trailing characters|\n",
    "|split()|splits string from left|\n",
    "|startswith()|checks if string starts with the specified string|\n",
    "|isnumeric()|checks numeric characters|\n",
    "|index()|returns index of substring|"
   ]
  },
  {
   "cell_type": "markdown",
   "metadata": {},
   "source": [
    "## Python List Data Type\n"
   ]
  },
  {
   "cell_type": "markdown",
   "metadata": {},
   "source": [
    "List is an ordered collection of similar or different types of items separated by commas and enclosed within brackets `[ ]`.\n",
    "\n",
    "```python\n",
    "# list with elements of different data types\n",
    "list1 = [1, \"Hello\", 3.4]\n",
    "\n",
    "# list with duplicate elements\n",
    "list1 = [1, \"Hello\", 3.4, \"Hello\", 1]\n",
    "\n",
    "# empty list\n",
    "list3 = []\n",
    "```\n"
   ]
  },
  {
   "cell_type": "code",
   "execution_count": null,
   "metadata": {},
   "outputs": [],
   "source": [
    "# Accessing Items in a list using index\n",
    "languages = [\"Swift\", \"Java\", \"Python\"]\n",
    "#              0,       1,       2     \n",
    "\n",
    "print(languages[0])   # Swift\n",
    "\n",
    "# access element at index 2\n",
    "print(languages[2])   # Python\n",
    "\n",
    "# Note that indexing starts with a 0"
   ]
  },
  {
   "cell_type": "code",
   "execution_count": null,
   "metadata": {},
   "outputs": [],
   "source": [
    "# Negative Indexing in Python\n",
    "# Python allows negative indexing for its sequences. The index of -1 refers to the last item, -2 to the second last item and so on.\n",
    "\n",
    "languages = [\"Python\", \"Swift\", \"C++\"]\n",
    "#              -3,       -2,       -1   \n",
    "\n",
    "\n",
    "# access item at index 0\n",
    "print(languages[-1])   # C++\n",
    "\n",
    "# access item at index 2\n",
    "print(languages[-3])   # Python\n",
    "\n",
    "# Note: If the specified index does not exist in a list, Python throws the IndexError exception."
   ]
  },
  {
   "cell_type": "code",
   "execution_count": null,
   "metadata": {},
   "outputs": [],
   "source": [
    "# Slicing of a List\n",
    "# In Python, it is possible to access a portion of a list using the slicing operator :. For example,\n",
    "\n",
    "# List slicing in Python\n",
    "\n",
    "my_list = ['p', 'r', 'o', 'g', 'r', 'a', 'm', 'i', 'z']\n",
    "\n",
    "# items from index 2 to index 4\n",
    "print(my_list[2:5])\n",
    "\n",
    "# items from index 5 to end\n",
    "print(my_list[5:])\n",
    "\n",
    "# items beginning to end\n",
    "print(my_list[:])\n",
    "\n",
    "# Note: When we slice lists, the start index is inclusive, but the end index is exclusive.\n",
    "\n"
   ]
  },
  {
   "cell_type": "markdown",
   "metadata": {},
   "source": [
    "Add Elements to a List\n",
    "Lists are mutable (changeable). Meaning we can add and remove elements from a list.\n",
    "\n",
    "Python list provides different methods to add items to a list.\n",
    "\n",
    "1. Using append()\n",
    "\n",
    "The append() method adds an item at the end of the list. For example,"
   ]
  },
  {
   "cell_type": "code",
   "execution_count": null,
   "metadata": {},
   "outputs": [],
   "source": [
    "numbers = [21, 34, 54, 12]\n",
    "\n",
    "print(\"Before Append:\", numbers)\n",
    "\n",
    "# using append method\n",
    "numbers.append(32)\n",
    "\n",
    "print(\"After Append:\", numbers)"
   ]
  },
  {
   "cell_type": "markdown",
   "metadata": {},
   "source": [
    "2. Using extend()\n",
    "\n",
    "We use the extend() method to add all the items of an iterable (list, tuple, string, dictionary, etc.) to the end of the list. For example,"
   ]
  },
  {
   "cell_type": "code",
   "execution_count": null,
   "metadata": {},
   "outputs": [],
   "source": [
    "numbers = [1, 3, 5]\n",
    "\n",
    "even_numbers = [4, 6, 8]\n",
    "\n",
    "# add elements of even_numbers to the numbers list\n",
    "numbers.extend(even_numbers)\n",
    "\n",
    "print(\"List after append:\", numbers)"
   ]
  },
  {
   "cell_type": "markdown",
   "metadata": {},
   "source": [
    "3. Using insert()\n",
    "\n",
    "We use the insert() method to add an element at the specified index.\n",
    "\n"
   ]
  },
  {
   "cell_type": "code",
   "execution_count": null,
   "metadata": {},
   "outputs": [],
   "source": [
    "numbers = [10, 30, 40]\n",
    "\n",
    "# insert an element at index 1 (second position)\n",
    "numbers.insert(1, 20)\n",
    "\n",
    "print(numbers)  # [10, 20, 30, 40]"
   ]
  },
  {
   "cell_type": "markdown",
   "metadata": {},
   "source": [
    "Change List Items\n",
    "\n",
    "Python lists are mutable. Meaning lists are changeable. And we can change items of a list by assigning new values using the = operator. For example,"
   ]
  },
  {
   "cell_type": "code",
   "execution_count": null,
   "metadata": {},
   "outputs": [],
   "source": [
    "languages = ['Python', 'Swift', 'C++']\n",
    "\n",
    "# changing the third item to 'C'\n",
    "languages[2] = 'C'\n",
    "\n",
    "print(languages)  # ['Python', 'Swift', 'C']"
   ]
  },
  {
   "cell_type": "markdown",
   "metadata": {},
   "source": [
    "Remove an Item From a List\n",
    "1. Using del Statement\n",
    "\n",
    "In Python we can use the del statement to remove one or more items from a list. For example,"
   ]
  },
  {
   "cell_type": "code",
   "execution_count": null,
   "metadata": {},
   "outputs": [],
   "source": [
    "languages = ['Python', 'Swift', 'C++', 'C', 'Java', 'Rust', 'R']\n",
    "\n",
    "# deleting the second item\n",
    "del languages[1]\n",
    "print(languages)  # ['Python', 'C++', 'C', 'Java', 'Rust', 'R']\n",
    "\n",
    "# deleting the last item\n",
    "del languages[-1]\n",
    "print(languages)  # ['Python', 'C++', 'C', 'Java', 'Rust']\n",
    "\n",
    "# delete the first two items\n",
    "del languages[0: 2]  # ['C', 'Java', 'Rust']\n",
    "print(languages)"
   ]
  },
  {
   "cell_type": "markdown",
   "metadata": {},
   "source": [
    "2. Using remove()\n",
    "\n",
    "We can also use the remove() method to delete a list item. For example,"
   ]
  },
  {
   "cell_type": "code",
   "execution_count": null,
   "metadata": {},
   "outputs": [],
   "source": [
    "languages = ['Python', 'Swift', 'C++', 'C', 'Java', 'Rust', 'R']\n",
    "\n",
    "# remove 'Python' from the list\n",
    "languages.remove('Python')\n",
    "\n",
    "print(languages)  # ['Swift', 'C++', 'C', 'Java', 'Rust', 'R']"
   ]
  },
  {
   "cell_type": "markdown",
   "metadata": {},
   "source": [
    "### There are so many other methods supported in a list\n",
    "\n",
    "Method\tDescription\n",
    "***\n",
    "> append()\tadd an item to the end of the list\n",
    "***\n",
    "> extend()\tadd all the items of an iterable to the end of the list\n",
    "***\n",
    "> insert()\tinserts an item at the specified index\n",
    "***\n",
    "> remove()\tremoves item present at the given index\n",
    "***\n",
    "> pop()\treturns and removes item present at the given index\n",
    "*** \n",
    "> clear()\tremoves all items from the list\n",
    "*** \n",
    "> index()\treturns the index of the first matched item\n",
    "*** \n",
    "> count()\treturns the count of the specified item in the list\n",
    "*** \n",
    "> sort()\tsort the list in ascending/descending order\n",
    "*** \n",
    "> reverse()\treverses the item of the list\n",
    "*** \n",
    "> copy()\treturns the shallow copy of the list"
   ]
  },
  {
   "cell_type": "markdown",
   "metadata": {},
   "source": [
    "# Python Tuple Data Type\n",
    "\n",
    "Tuple is an ordered sequence of items same as a list. The only difference is that tuples are immutable. Tuples once created cannot be modified. Parentheses are used to store items of a tuple."
   ]
  },
  {
   "cell_type": "code",
   "execution_count": 7,
   "metadata": {},
   "outputs": [],
   "source": [
    "# Creating a tuple\n",
    "product = ('Microsoft', 'Xbox', 499.99)\n",
    "\n",
    "# Similar to a list, items in a tuple are accessed the same way.\n",
    "\n",
    "# access element at index 0\n",
    "print(product[0])   # Microsoft\n",
    "\n",
    "# access element at index 1\n",
    "print(product[1])   # Xbox"
   ]
  },
  {
   "cell_type": "code",
   "execution_count": null,
   "metadata": {},
   "outputs": [],
   "source": [
    "# Different types of tuples\n",
    "\n",
    "# Empty tuple\n",
    "my_tuple = ()\n",
    "print(my_tuple)\n",
    "\n",
    "# Tuple having integers\n",
    "my_tuple = (1, 2, 3)\n",
    "print(my_tuple)\n",
    "\n",
    "# tuple with mixed datatypes\n",
    "my_tuple = (1, \"Hello\", 3.4)\n",
    "print(my_tuple)\n",
    "\n",
    "# nested tuple\n",
    "my_tuple = (\"mouse\", [8, 4, 6], (1, 2, 3))\n",
    "print(my_tuple)"
   ]
  },
  {
   "cell_type": "code",
   "execution_count": 5,
   "metadata": {},
   "outputs": [],
   "source": [
    "# Create a Python Tuple With one Element\n",
    "var1 = (\"Hello\")  # string\n",
    "var2 = (\"Hello\",)  # tuple\n",
    "# Parentheses is optional\n",
    "var3 = \"hello\",\n",
    "\n",
    "\n",
    "print(type(var1))  # <class 'tuple'>\n",
    "print(type(var2))  # <class 'tuple'>\n",
    "print(type(var3))  # <class 'tuple'>"
   ]
  },
  {
   "cell_type": "code",
   "execution_count": null,
   "metadata": {},
   "outputs": [],
   "source": [
    "# nested tuples are accessed using nested indexing, as shown in the example below.\n",
    "\n",
    "var4 = ((1,2), 3, (5,6,7))\n",
    "\n",
    "print(var4[0])\n",
    "print(var4[0][0])\n",
    "print(var4[0][1])\n",
    "print(var4[1])\n",
    "\n",
    "# How do i get the 7 using negative index\n"
   ]
  },
  {
   "cell_type": "code",
   "execution_count": null,
   "metadata": {},
   "outputs": [],
   "source": [
    "# Python Tuple Methods\n",
    "\n",
    "my_tuple = ('a', 'p', 'p', 'l', 'e',)\n",
    "\n",
    "print(my_tuple.count('p'))  # counts total number of 'p' in my_tuple\n",
    "print(my_tuple.index('l'))  # returns the first occurrence of 'l' in my_tuple"
   ]
  },
  {
   "cell_type": "code",
   "execution_count": null,
   "metadata": {},
   "outputs": [],
   "source": [
    "# Iterating through a Tuple in Python\n",
    "\n",
    "languages = ('Python', 'Swift', 'C++')\n",
    "\n",
    "# iterating through the tuple\n",
    "for language in languages:\n",
    "    print(language)"
   ]
  },
  {
   "cell_type": "code",
   "execution_count": null,
   "metadata": {},
   "outputs": [],
   "source": [
    "# Check if an Item Exists in the Python Tuple\n",
    "\n",
    "languages = ('Python', 'Swift', 'C++')\n",
    "\n",
    "print('C' in languages)    # False\n",
    "print('Python' in languages)    # True"
   ]
  },
  {
   "cell_type": "markdown",
   "metadata": {},
   "source": [
    "# Python Set Data Type\n",
    "\n",
    "Set is an unordered collection of unique items. Set is defined by values separated by commas inside braces { }. \n",
    "\n",
    "Since sets are unordered collections, indexing has no meaning"
   ]
  },
  {
   "cell_type": "code",
   "execution_count": null,
   "metadata": {},
   "outputs": [],
   "source": [
    "# create a set named student_id\n",
    "student_id = {112, 114, 116, 118, 115}\n",
    "\n",
    "# display student_id elements\n",
    "print(student_id)\n",
    "\n",
    "# display type of student_id\n",
    "print(type(student_id))"
   ]
  },
  {
   "cell_type": "code",
   "execution_count": 11,
   "metadata": {},
   "outputs": [],
   "source": [
    "# create an empty set\n",
    "empty_set = set()\n",
    "\n",
    "# create an empty dictionary\n",
    "empty_dictionary = {}\n",
    "\n",
    "# check data type of empty_set\n",
    "print('Data type of empty_set:', type(empty_set))\n",
    "\n",
    "# check data type of dictionary_set\n",
    "print('Data type of empty_dictionary', type(empty_dictionary))"
   ]
  },
  {
   "cell_type": "code",
   "execution_count": null,
   "metadata": {},
   "outputs": [],
   "source": [
    "# duplicates\n",
    "\n",
    "numbers = {2, 4, 6, 6, 2, 8}\n",
    "print(numbers)   # {8, 2, 4, 6}\n"
   ]
  },
  {
   "cell_type": "code",
   "execution_count": null,
   "metadata": {},
   "outputs": [],
   "source": [
    "# Add Items to a Set in Python\n",
    "\n",
    "numbers = {21, 34, 54, 12}\n",
    "\n",
    "print('Initial Set:', numbers)\n",
    "\n",
    "# using add() method\n",
    "numbers.add(32)\n",
    "\n",
    "print('Updated Set:', numbers)"
   ]
  },
  {
   "cell_type": "code",
   "execution_count": null,
   "metadata": {},
   "outputs": [],
   "source": [
    "# Update Python Set\n",
    "\n",
    "companies = {'Lacoste', 'Ralph Lauren'}\n",
    "tech_companies = ['apple', 'google', 'apple']\n",
    "\n",
    "companies.update(tech_companies)\n",
    "\n",
    "print(companies)\n",
    "\n",
    "# Output: {'google', 'apple', 'Lacoste', 'Ralph Lauren'}"
   ]
  },
  {
   "cell_type": "code",
   "execution_count": null,
   "metadata": {},
   "outputs": [],
   "source": [
    "# Remove an Element from a Set\n",
    "\n",
    "languages = {'Swift', 'Java', 'Python'}\n",
    "\n",
    "print('Initial Set:', languages)\n",
    "\n",
    "# remove 'Java' from a set\n",
    "removedValue = languages.discard('Java')\n",
    "\n",
    "print('Set after remove():', languages)"
   ]
  },
  {
   "cell_type": "code",
   "execution_count": null,
   "metadata": {},
   "outputs": [],
   "source": [
    "# Iterate Over a Set in Python\n",
    "\n",
    "fruits = {\"Apple\", \"Peach\", \"Mango\"}\n",
    "\n",
    "# for loop to access each fruits\n",
    "for fruit in fruits:\n",
    "    print(fruit)"
   ]
  },
  {
   "cell_type": "markdown",
   "metadata": {},
   "source": [
    "### Python Set Operations\n"
   ]
  },
  {
   "cell_type": "code",
   "execution_count": null,
   "metadata": {},
   "outputs": [],
   "source": [
    "# Union of Two Sets\n",
    "# The union of two sets A and B include all the elements\n",
    "\n",
    "# first set\n",
    "A = {1, 3, 5}\n",
    "\n",
    "# second set\n",
    "B = {0, 2, 4}\n",
    "\n",
    "# perform union operation using |\n",
    "print('Union using |:', A | B)\n",
    "\n",
    "# perform union operation using union()\n",
    "print('Union using union():', A.union(B))"
   ]
  },
  {
   "cell_type": "code",
   "execution_count": null,
   "metadata": {},
   "outputs": [],
   "source": [
    "# Set Intersection\n",
    "# The intersection of two sets A and B include the common elements\n",
    "\n",
    "# first set\n",
    "A = {1, 3, 5}\n",
    "\n",
    "# second set\n",
    "B = {1, 2, 3}\n",
    "\n",
    "# perform intersection operation using &\n",
    "print('Intersection using &:', A & B)\n",
    "\n",
    "# perform intersection operation using intersection()\n",
    "print('Intersection using intersection():', A.intersection(B))"
   ]
  },
  {
   "cell_type": "code",
   "execution_count": null,
   "metadata": {},
   "outputs": [],
   "source": [
    "# Difference between Two Sets\n",
    "# The difference between two sets A and B include elements of set A that are not present on set B.\n",
    "\n",
    "# first set\n",
    "A = {2, 3, 5}\n",
    "\n",
    "# second set\n",
    "B = {1, 2, 6}\n",
    "\n",
    "# perform difference operation using &\n",
    "print('Difference using &:', A - B)\n",
    "\n",
    "# perform difference operation using difference()\n",
    "print('Difference using difference():', A.difference(B))"
   ]
  },
  {
   "cell_type": "code",
   "execution_count": null,
   "metadata": {},
   "outputs": [],
   "source": [
    "# Check if two sets are equal\n",
    "\n",
    "# first set\n",
    "A = {1, 3, 5}\n",
    "\n",
    "# second set\n",
    "B = {3, 5, 1}\n",
    "\n",
    "# perform difference operation using &\n",
    "if A == B:\n",
    "    print('Set A and Set B are equal')\n",
    "else:\n",
    "    print('Set A and Set B are not equal')"
   ]
  },
  {
   "cell_type": "markdown",
   "metadata": {},
   "source": [
    "# Python Dictionary Data Type\n",
    "\n",
    "Python dictionary is an ordered collection of items. It stores elements in key/value pairs.\n",
    "\n",
    "Here, keys are unique identifiers that are associated with each value."
   ]
  },
  {
   "cell_type": "code",
   "execution_count": null,
   "metadata": {},
   "outputs": [],
   "source": [
    "# create a dictionary named capital_city\n",
    "capital_city = {\n",
    "                'Nepal': 'Kathmandu', \n",
    "                'Italy': 'Rome', \n",
    "                'England': 'London'\n",
    "                }\n",
    "\n",
    "print(capital_city)"
   ]
  },
  {
   "cell_type": "code",
   "execution_count": null,
   "metadata": {},
   "outputs": [],
   "source": [
    "# Checking the length of a dictionary using the len() function.\n",
    "\n",
    "country_capitals = {\n",
    "    \"United States\": \"Washington D.C.\",\n",
    "    \"Italy\": \"Rome\",\n",
    "    \"England\": \"London\"\n",
    "}\n",
    "\n",
    "# get dictionary's length\n",
    "print(len(country_capitals))  # 3"
   ]
  },
  {
   "cell_type": "code",
   "execution_count": null,
   "metadata": {},
   "outputs": [],
   "source": [
    "# Accessing Dictionary Items\n",
    "\n",
    "country_capitals = {\n",
    "    \"United States\": \"Washington D.C.\",\n",
    "    \"Italy\": \"Rome\",\n",
    "    \"England\": \"London\"\n",
    "}\n",
    "\n",
    "print(country_capitals[\"United States\"])  # Washington D.C.\n",
    "\n",
    "print(country_capitals[\"England\"])  # London"
   ]
  },
  {
   "cell_type": "code",
   "execution_count": null,
   "metadata": {},
   "outputs": [],
   "source": [
    "# Another method is the get() method\n",
    "# The get method returns the value of the specific key in the dictionary\n",
    "\n",
    "scores = {\n",
    "    'Physics': 67,\n",
    "    'Maths': 87,\n",
    "    'History': 75\n",
    "}\n",
    "\n",
    "result = scores.get('Physics')\n",
    "\n",
    "print(result)    # 67"
   ]
  },
  {
   "cell_type": "markdown",
   "metadata": {},
   "source": [
    "## Quick experimental question\n",
    "\n",
    "### Difference between get() methond and the dict[key] approach of accessing elements in a dictionary?"
   ]
  },
  {
   "cell_type": "code",
   "execution_count": null,
   "metadata": {},
   "outputs": [],
   "source": [
    "person = {}\n",
    "\n",
    "# Using get() results in None\n",
    "print('Salary: ', person.get('salary'))\n",
    "\n",
    "\n",
    "# Using [] results in KeyError\n",
    "print(person['salary'])"
   ]
  },
  {
   "cell_type": "code",
   "execution_count": null,
   "metadata": {},
   "outputs": [],
   "source": [
    "# clear() method\n",
    "# dictionary\n",
    "numbers = {1: \"one\", 2: \"two\"}\n",
    "\n",
    "# removes all the items from the dictionary\n",
    "numbers.clear()\n",
    "\n",
    "print(numbers)\n",
    "\n",
    "# Output: {}"
   ]
  },
  {
   "cell_type": "code",
   "execution_count": null,
   "metadata": {},
   "outputs": [],
   "source": [
    "# copy() method\n",
    "\n",
    "original_marks = {'Physics': 67, 'Maths': 87}\n",
    "\n",
    "copied_marks = original_marks.copy()\n",
    "\n",
    "\n",
    "print('Original Marks:', original_marks)\n",
    "print('Copied Marks:', copied_marks)\n",
    "\n",
    "# Output: Original Marks: {'Physics': 67, 'Maths': 87}\n",
    "#         Copied Marks: {'Physics': 67, 'Maths': 87}"
   ]
  },
  {
   "cell_type": "code",
   "execution_count": null,
   "metadata": {},
   "outputs": [],
   "source": [
    "# Dictionary copy() Method Vs = Operator\n",
    "# When the copy() method is used, a new dictionary is created which is filled with a copy of the references from the original dictionary. \n",
    "# When the = operator is used, a new reference to the original dictionary is created.\n",
    "\n",
    "# Example 1: Using = Operator to Copy Dictionaries\n",
    "\n",
    "original = {1: 'one', 2: 'two'}\n",
    "new = original\n",
    "\n",
    "\n",
    "# removing all elements from the list\n",
    "new.clear()\n",
    "\n",
    "print('new: ', new)\n",
    "print('original: ', original)"
   ]
  },
  {
   "cell_type": "code",
   "execution_count": null,
   "metadata": {},
   "outputs": [],
   "source": [
    "# Example 2: Using copy() to Copy Dictionaries\n",
    "\n",
    "original = {1: 'one', 2: 'two'}\n",
    "new = original.copy()\n",
    "\n",
    "\n",
    "# removing all elements from the list\n",
    "new.clear()\n",
    "\n",
    "print('new: ', new)\n",
    "print('original: ', original)"
   ]
  },
  {
   "cell_type": "code",
   "execution_count": null,
   "metadata": {},
   "outputs": [],
   "source": [
    "# Python Dictionary keys()\n",
    "# The keys() method extracts the keys of the dictionary and returns the list of keys as a view object.\n",
    "\n",
    "employee = {'name': 'Phill', 'age': 22, 'salary': 3500.0}\n",
    "\n",
    "# extracts the keys of the dictionary\n",
    "dictionaryKeys = employee.keys()\n",
    "\n",
    "print(dictionaryKeys)"
   ]
  },
  {
   "cell_type": "code",
   "execution_count": null,
   "metadata": {},
   "outputs": [],
   "source": [
    "# Python Dictionary update()\n",
    "# The update() method updates the dictionary with the elements from another dictionary object or from an iterable of key/value pairs.\n",
    "\n",
    "marks = {'Physics': 67, 'Maths': 87}\n",
    "internal_marks = {'Practical': 48}\n",
    "\n",
    "marks.update(internal_marks)\n",
    "\n",
    "\n",
    "print(marks)\n",
    "\n",
    "# Output: {'Physics': 67, 'Maths': 87, 'Practical': 48}"
   ]
  },
  {
   "cell_type": "markdown",
   "metadata": {},
   "source": [
    "## Final Project\n",
    "\n",
    "### Build a ROCK-PAPER-SCISSORS program"
   ]
  },
  {
   "cell_type": "markdown",
   "metadata": {},
   "source": []
  }
 ],
 "metadata": {
  "kernelspec": {
   "display_name": "scraping_env",
   "language": "python",
   "name": "python3"
  },
  "language_info": {
   "codemirror_mode": {
    "name": "ipython",
    "version": 3
   },
   "file_extension": ".py",
   "mimetype": "text/x-python",
   "name": "python",
   "nbconvert_exporter": "python",
   "pygments_lexer": "ipython3",
   "version": "3.9.18"
  }
 },
 "nbformat": 4,
 "nbformat_minor": 2
}
