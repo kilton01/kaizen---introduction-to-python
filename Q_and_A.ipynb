{
 "cells": [
  {
   "cell_type": "markdown",
   "metadata": {},
   "source": [
    "# Python Examples\n",
    "<!-- source: This will be provided after the session -->\n",
    "\n",
    "## Python Syntax"
   ]
  },
  {
   "cell_type": "code",
   "execution_count": null,
   "metadata": {},
   "outputs": [],
   "source": [
    "# Print(\"Hello World\")\n",
    "# Comments in Python using #\n",
    "# DocStrings"
   ]
  },
  {
   "cell_type": "markdown",
   "metadata": {},
   "source": [
    "## Python Variables"
   ]
  },
  {
   "cell_type": "code",
   "execution_count": null,
   "metadata": {},
   "outputs": [],
   "source": [
    "# Create a variable\n",
    "# Output variables\n",
    "# Add a variable to another variable\n",
    "# create 3 new variables in one line"
   ]
  },
  {
   "cell_type": "markdown",
   "metadata": {},
   "source": [
    "## Python Numbers"
   ]
  },
  {
   "cell_type": "code",
   "execution_count": null,
   "metadata": {},
   "outputs": [],
   "source": [
    "# Verify the type of an object using the type() function\n",
    "# Create integers\n",
    "# Create floating point numbers\n",
    "# Creating a complex number(3+5j)"
   ]
  },
  {
   "cell_type": "markdown",
   "metadata": {},
   "source": [
    "## Python Casting"
   ]
  },
  {
   "cell_type": "code",
   "execution_count": null,
   "metadata": {},
   "outputs": [],
   "source": [
    "# Casting - integers\n",
    "# Casting - Floats\n",
    "# Casting - Strings\n",
    "\n",
    "int_num = 1\n",
    "float_num = 4.5\n",
    "string_value = 'String'"
   ]
  },
  {
   "cell_type": "markdown",
   "metadata": {},
   "source": [
    "## Python Strings"
   ]
  },
  {
   "cell_type": "code",
   "execution_count": null,
   "metadata": {},
   "outputs": [],
   "source": [
    "# Get the character at index 1 of a string.eg. your name.\n",
    "# Substring. Get the characters from position 2 to postion 5(not included)\n",
    "# Remove whitespace from the beginning or at the end of a string using strip() function\n",
    "# Return the length of a string using len() function\n",
    "# Convert a string to lower case using lower() function\n",
    "# Convert a string to upper case using upper() function\n",
    "# Replace a string with another string using replace() function\n",
    "# Split a string into substrings using split() function"
   ]
  },
  {
   "cell_type": "markdown",
   "metadata": {},
   "source": [
    "## Python Operators"
   ]
  },
  {
   "cell_type": "code",
   "execution_count": null,
   "metadata": {},
   "outputs": [],
   "source": [
    "a = 5\n",
    "b = 8\n",
    "c = 2\n",
    "\n",
    "# Addition Operator\n",
    "# Subtraction Operator\n",
    "# Multiplication Operator\n",
    "# Division Operator\n",
    "# Modulus Operator\n",
    "# Assignment Operator\n"
   ]
  },
  {
   "cell_type": "markdown",
   "metadata": {},
   "source": [
    "## Python Lists"
   ]
  },
  {
   "cell_type": "code",
   "execution_count": null,
   "metadata": {},
   "outputs": [],
   "source": [
    "# Create a list\n",
    "# Access list items\n",
    "# Change the value of a list item\n",
    "# Loop through a list\n",
    "# Check if a list item exists\n",
    "# Get the length of a list\n",
    "# Add an item to the end of a list using negative index and append() function\n",
    "# Add an item at a specified index using insert()\n",
    "# Remove an item\n",
    "# Remove the last item usng the pop() function\n",
    "# Remove an item at a specified idex using del\n",
    "# Empty a list\n",
    "# Using the list() constructor to make a list"
   ]
  },
  {
   "cell_type": "markdown",
   "metadata": {},
   "source": [
    "## Python Tuples"
   ]
  },
  {
   "cell_type": "code",
   "execution_count": null,
   "metadata": {},
   "outputs": [],
   "source": [
    "# Create a tuple\n",
    "# Access tuple items\n",
    "# Change tuple values\n",
    "# Loop through the tuple\n",
    "# Check if a tuple item exists\n",
    "# Get the length of the typle\n",
    "# Delete the tuple\n",
    "# Using the tuple() constructor to create a tuple"
   ]
  },
  {
   "cell_type": "markdown",
   "metadata": {},
   "source": [
    "## Python Sets"
   ]
  },
  {
   "cell_type": "code",
   "execution_count": null,
   "metadata": {},
   "outputs": [],
   "source": [
    "# Create a set\n",
    "# Loop through the set\n",
    "# Check if an item exists in that set\n",
    "# Add an item to the set\n",
    "# Add multiple items to the set using update() function\n",
    "# Get the length of the set\n",
    "# Remove an item in the set using the remove() function\n",
    "# Remove an item in the set by using the discard() method\n",
    "# Remove the last item in the set by using the pop() method\n",
    "# Empty the set using clear() function\n",
    "# Delete the set using del\n",
    "# Using the set() constructor to create a set"
   ]
  },
  {
   "cell_type": "markdown",
   "metadata": {},
   "source": [
    "## Python Dictionary"
   ]
  },
  {
   "cell_type": "code",
   "execution_count": null,
   "metadata": {},
   "outputs": [],
   "source": [
    "# Create a dictionary with student_name, class, school, location as key and assign values to each\n",
    "# Access the items of the dictionary\n",
    "# Change the value of school in the dictionary assuming the student changes school.\n",
    "# Print all key names in the dictionary, one by one\n",
    "# Print all values in the dictionary, one by one\n",
    "# Using the values() function to return values of a dictionary\n",
    "# Loop through both keys as values, by using the items() function\n",
    "# Check if a key exists\n",
    "# Get the length of a dictionary\n",
    "# Add an item to a dictionary using key indexing\n",
    "# Add an item to a dictionary using update() function\n",
    "# Remove an item from a dictionary\n",
    "# Empty a dictionary\n",
    "# Using the dict() constructor to create a dictionary\n",
    "\n",
    "\n",
    "# Assuming we have 3 students, how will you store all that information in one variable."
   ]
  },
  {
   "cell_type": "markdown",
   "metadata": {},
   "source": [
    "## Python if.....Else"
   ]
  },
  {
   "cell_type": "code",
   "execution_count": null,
   "metadata": {},
   "outputs": [],
   "source": [
    "# School Grade system with if statements\n",
    "# If statement with 'and' keyword\n",
    "# If statement with 'or' keyword\n",
    "\n",
    "# A = 85 to 100\n",
    "# B = 75 to 84\n",
    "# C = 65 to 74\n",
    "# D = 55 to 64\n",
    "# E = 50 to 54\n",
    "# F = 0 to 49"
   ]
  },
  {
   "cell_type": "markdown",
   "metadata": {},
   "source": [
    "## Python While Loop"
   ]
  },
  {
   "cell_type": "code",
   "execution_count": null,
   "metadata": {},
   "outputs": [],
   "source": [
    "# Print i as long as i is less than 6\n",
    "# Exit the loop when i is 3 using the break statement\n",
    "# Continue to the next iteration if i is 3 using the continue statement"
   ]
  },
  {
   "cell_type": "markdown",
   "metadata": {},
   "source": [
    "## Python For Loop"
   ]
  },
  {
   "cell_type": "code",
   "execution_count": null,
   "metadata": {},
   "outputs": [],
   "source": [
    "# Print each fruit in a fruit list: \n",
    "fruits = [\"apple\", \"banana\", \"cherry\"]\n",
    "\n",
    "# Loop through the letters in the word \"banana\"\n",
    "# Exit the loop when x is \"banana\" using a break statement\n",
    "# Exit the loop when x is \"banana\", but this time the break comes before the print\n",
    "# using the continue statement, print everything except banana\n",
    "# Use the range function to print the value of i, x=10 number of times.\n",
    "# Define a start point in the round using range\n",
    "# Include an increment in a sequence of 3\n",
    "# Exit the loop when i is 3 using the break statement\n",
    "# Continue to the next iteration if i is 3 using the continue statement\n",
    "\n",
    "# Print each adjective for every fruit:\n",
    "adj = [\"red\", \"big\", \"tasty\"]\n",
    "fruits = [\"apple\", \"banana\", \"cherry\"]"
   ]
  },
  {
   "cell_type": "markdown",
   "metadata": {},
   "source": [
    "## Python Functions"
   ]
  },
  {
   "cell_type": "code",
   "execution_count": null,
   "metadata": {},
   "outputs": [],
   "source": [
    "# Create and call a function\n",
    "# Function parameters\n",
    "# Default parameter value\n",
    "# Let a function return a value"
   ]
  },
  {
   "cell_type": "markdown",
   "metadata": {},
   "source": [
    "## Python Classes and Object"
   ]
  },
  {
   "cell_type": "code",
   "execution_count": null,
   "metadata": {},
   "outputs": [],
   "source": [
    "# Create a class named MyClass, with a property named x\n",
    "# Create an object named p1, and print the value of x\n",
    "# Create a class named Person, use the __init__() function to assign values for name and age.\n",
    "# Insert a function that prints a greeting, and execute it on the p1 object\n",
    "# Modify object properties\n",
    "# Delete the age property from the p1 object\n",
    "# Delete the p1 object"
   ]
  },
  {
   "cell_type": "code",
   "execution_count": null,
   "metadata": {},
   "outputs": [],
   "source": [
    "# Create a Student class that stores information (name, age,grade) about students and provides methods to update and display their details. this class should have a method\n",
    "\n",
    "# 1.update student's current grade\n",
    "# 2.Update age\n",
    "# 3.display student details.\n",
    "# f 'Student name : {name of student} ,student age :{age}, student grade :{grade}'"
   ]
  }
 ],
 "metadata": {
  "kernelspec": {
   "display_name": "scraping_env",
   "language": "python",
   "name": "python3"
  },
  "language_info": {
   "codemirror_mode": {
    "name": "ipython",
    "version": 3
   },
   "file_extension": ".py",
   "mimetype": "text/x-python",
   "name": "python",
   "nbconvert_exporter": "python",
   "pygments_lexer": "ipython3",
   "version": "3.9.18"
  }
 },
 "nbformat": 4,
 "nbformat_minor": 2
}
