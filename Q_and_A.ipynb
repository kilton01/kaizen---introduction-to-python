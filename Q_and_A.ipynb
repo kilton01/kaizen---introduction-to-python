{
 "cells": [
  {
   "cell_type": "markdown",
   "metadata": {},
   "source": [
    "# Python Examples\n",
    "<!-- source: This will be provided after the session -->\n",
    "\n",
    "## Python Syntax"
   ]
  },
  {
   "cell_type": "code",
   "execution_count": null,
   "metadata": {},
   "outputs": [],
   "source": [
    "# Print(\"Hello World\")\n",
    "# Comments in Python\n",
    "# DocStrings"
   ]
  },
  {
   "cell_type": "markdown",
   "metadata": {},
   "source": [
    "## Python Variables"
   ]
  },
  {
   "cell_type": "code",
   "execution_count": null,
   "metadata": {},
   "outputs": [],
   "source": [
    "# Create a variable\n",
    "# Output variables\n",
    "# Add a variable to another variable"
   ]
  },
  {
   "cell_type": "markdown",
   "metadata": {},
   "source": [
    "## Python Numbers"
   ]
  },
  {
   "cell_type": "code",
   "execution_count": null,
   "metadata": {},
   "outputs": [],
   "source": [
    "# Verify the type of an object\n",
    "# Create integers\n",
    "# Create floating point numbers\n",
    "# Creating a complex number(3+5j)"
   ]
  },
  {
   "cell_type": "markdown",
   "metadata": {},
   "source": [
    "## Python Casting"
   ]
  },
  {
   "cell_type": "code",
   "execution_count": null,
   "metadata": {},
   "outputs": [],
   "source": [
    "# Casting - integers\n",
    "# Casting - Floats\n",
    "# Casting - Strings\n"
   ]
  },
  {
   "cell_type": "markdown",
   "metadata": {},
   "source": [
    "## Python Strings"
   ]
  },
  {
   "cell_type": "code",
   "execution_count": null,
   "metadata": {},
   "outputs": [],
   "source": [
    "# Get the character at index 1 of a string\n",
    "# Substring. Get the characters from position 2 to postion 5(not included)\n",
    "# Remove whitespace from the beginning or at the end of a string\n",
    "# Return the length of a string\n",
    "# Convert a string to lower case\n",
    "# Convert a string to upper case\n",
    "# Replace a string with another string\n",
    "# Split a string into substrings"
   ]
  },
  {
   "cell_type": "markdown",
   "metadata": {},
   "source": [
    "## Python Operators"
   ]
  },
  {
   "cell_type": "code",
   "execution_count": null,
   "metadata": {},
   "outputs": [],
   "source": [
    "# Addition Operator\n",
    "# Subtraction Operator\n",
    "# Multiplication Operator\n",
    "# Division Operator\n",
    "# Modulus Operator\n",
    "# Assignment Operator"
   ]
  },
  {
   "cell_type": "markdown",
   "metadata": {},
   "source": [
    "## Python Lists"
   ]
  },
  {
   "cell_type": "code",
   "execution_count": null,
   "metadata": {},
   "outputs": [],
   "source": [
    "# Create a list\n",
    "# Access list items\n",
    "# Change the value of a list item\n",
    "# Loop through a list\n",
    "# Check if a list item exists\n",
    "# Get the length of a list\n",
    "# Add an item to the end of a list\n",
    "# Add an item at a specified index\n",
    "# Remove an item\n",
    "# Remove the last item\n",
    "# Remove an item at a specified idex\n",
    "# Empty a list\n",
    "# Using the list() constructor to make a list"
   ]
  },
  {
   "cell_type": "markdown",
   "metadata": {},
   "source": [
    "## Python Tuples"
   ]
  },
  {
   "cell_type": "code",
   "execution_count": null,
   "metadata": {},
   "outputs": [],
   "source": [
    "# Create a tuple\n",
    "# Access tuple items\n",
    "# Change tuple values\n",
    "# Loop through a tuple\n",
    "# Check if a tuple item exists\n",
    "# Get the length of a typle\n",
    "# Delete a tuple\n",
    "# Using the tuple() constructor to create a tuple"
   ]
  },
  {
   "cell_type": "markdown",
   "metadata": {},
   "source": [
    "## Python Sets"
   ]
  },
  {
   "cell_type": "code",
   "execution_count": null,
   "metadata": {},
   "outputs": [],
   "source": [
    "# Create a set\n",
    "# Loop through a set\n",
    "# Check if an item exists\n",
    "# Add an item to a set\n",
    "# Add multiple items to a set\n",
    "# Get the length of a set\n",
    "# Remove an item in a set\n",
    "# Remove an item in a set by using the discard() method\n",
    "# Remove the last item in a set by using the pop() method\n",
    "# Empty a set\n",
    "# Delete a set\n",
    "# Using the set() constructor to create a set"
   ]
  },
  {
   "cell_type": "markdown",
   "metadata": {},
   "source": [
    "## Python Dictionary"
   ]
  },
  {
   "cell_type": "code",
   "execution_count": null,
   "metadata": {},
   "outputs": [],
   "source": [
    "# Create a dictionary\n",
    "# Access the items of a dictionary\n",
    "# Change the value of a specific item in a dictionary\n",
    "# Print all key names in a dictionary, one by one\n",
    "# Print all values in a dictionary, one by one\n",
    "# Using the values() function to return values of a dictionary\n",
    "# Loop through both keys as values, by using the items() function\n",
    "# Check if a key exists\n",
    "# Get the length of a dictionary\n",
    "# Add an item to a dictionary\n",
    "# Remove an item from a dictionary\n",
    "# Empty a dictionary\n",
    "# Using the dict() constructor to create a dictionary"
   ]
  },
  {
   "cell_type": "markdown",
   "metadata": {},
   "source": [
    "## Python if.....Else"
   ]
  },
  {
   "cell_type": "code",
   "execution_count": null,
   "metadata": {},
   "outputs": [],
   "source": [
    "# School Grade system with if statements\n",
    "# If statement with 'and' keyword\n",
    "# If statement with 'or' keyword"
   ]
  },
  {
   "cell_type": "markdown",
   "metadata": {},
   "source": [
    "## Python While Loop"
   ]
  },
  {
   "cell_type": "code",
   "execution_count": null,
   "metadata": {},
   "outputs": [],
   "source": []
  },
  {
   "cell_type": "markdown",
   "metadata": {},
   "source": [
    "## Python For Loop"
   ]
  },
  {
   "cell_type": "code",
   "execution_count": null,
   "metadata": {},
   "outputs": [],
   "source": []
  },
  {
   "cell_type": "markdown",
   "metadata": {},
   "source": [
    "## Python Functions"
   ]
  },
  {
   "cell_type": "code",
   "execution_count": null,
   "metadata": {},
   "outputs": [],
   "source": [
    "# Create and call a function\n",
    "# Function parameters\n",
    "# Default parameter value\n",
    "# Let a function return a value"
   ]
  },
  {
   "cell_type": "markdown",
   "metadata": {},
   "source": [
    "## Python Classes and Object"
   ]
  },
  {
   "cell_type": "code",
   "execution_count": null,
   "metadata": {},
   "outputs": [],
   "source": [
    "# Create a class named MyClass, with a property named x\n",
    "# Create an object named p1, and print the value of x\n",
    "# Create a class named Person, use the __init__() function to assign values for name and age\n",
    "# Create object methods\n",
    "# The self parameter\n",
    "# Modify object properties\n",
    "# Delete object properties\n",
    "# Delete an object"
   ]
  }
 ],
 "metadata": {
  "language_info": {
   "name": "python"
  }
 },
 "nbformat": 4,
 "nbformat_minor": 2
}
